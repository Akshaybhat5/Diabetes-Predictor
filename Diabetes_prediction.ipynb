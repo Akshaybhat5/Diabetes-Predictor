{
  "nbformat": 4,
  "nbformat_minor": 0,
  "metadata": {
    "colab": {
      "name": "Diabetes_prediction.ipynb",
      "private_outputs": true,
      "provenance": []
    },
    "kernelspec": {
      "name": "python3",
      "display_name": "Python 3"
    },
    "language_info": {
      "name": "python"
    }
  },
  "cells": [
    {
      "cell_type": "markdown",
      "metadata": {
        "id": "vMjGhGjBHuz8"
      },
      "source": [
        "**DIABETES PREDICTION**"
      ]
    },
    {
      "cell_type": "code",
      "metadata": {
        "id": "6BsOLswaH225"
      },
      "source": [
        "import pandas as pd\n",
        "import numpy as np\n",
        "import matplotlib.pyplot as plt\n",
        "import seaborn as sns\n",
        "\n",
        "from sklearn.preprocessing import StandardScaler\n",
        "from sklearn.model_selection import train_test_split\n",
        "from sklearn.linear_model import LinearRegression\n",
        "from sklearn.tree import DecisionTreeClassifier\n",
        "from sklearn.ensemble import RandomForestClassifier\n",
        "from sklearn.naive_bayes import GaussianNB\n",
        "from sklearn.svm import SVC\n",
        "from sklearn.neighbors import KNeighborsClassifier\n",
        "from sklearn.metrics import accuracy_score, confusion_matrix, classification_report"
      ],
      "execution_count": null,
      "outputs": []
    },
    {
      "cell_type": "code",
      "metadata": {
        "id": "a382sN3FIfon"
      },
      "source": [
        "data = pd.read_csv('diabetes.csv')"
      ],
      "execution_count": null,
      "outputs": []
    },
    {
      "cell_type": "code",
      "metadata": {
        "id": "jk_re9FsIozw"
      },
      "source": [
        "data.head()"
      ],
      "execution_count": null,
      "outputs": []
    },
    {
      "cell_type": "code",
      "metadata": {
        "id": "TZqq6nHnIqPi"
      },
      "source": [
        "data.info()"
      ],
      "execution_count": null,
      "outputs": []
    },
    {
      "cell_type": "code",
      "metadata": {
        "id": "Nog7QjykIz8H"
      },
      "source": [
        "data.describe()"
      ],
      "execution_count": null,
      "outputs": []
    },
    {
      "cell_type": "code",
      "metadata": {
        "id": "-fP0GBHGI2ul"
      },
      "source": [
        "data.head(10)"
      ],
      "execution_count": null,
      "outputs": []
    },
    {
      "cell_type": "code",
      "metadata": {
        "id": "K2t9il96JFD2"
      },
      "source": [
        "# let's draw a heat map to understand the correlation between the variables\n",
        "plt.figure(figsize=(15,15))\n",
        "correlation = data.corr()\n",
        "sns.heatmap(correlation, annot=True)\n",
        "plt.title('HEAT-MAP', fontweight='bold')\n",
        "plt.tight_layout()"
      ],
      "execution_count": null,
      "outputs": []
    },
    {
      "cell_type": "code",
      "metadata": {
        "id": "DrmRsSj9JfdT"
      },
      "source": [
        "data.isnull().sum()"
      ],
      "execution_count": null,
      "outputs": []
    },
    {
      "cell_type": "code",
      "metadata": {
        "id": "j4oaa2EHJmRr"
      },
      "source": [
        "# Luckily we don't have any data missing"
      ],
      "execution_count": null,
      "outputs": []
    },
    {
      "cell_type": "code",
      "metadata": {
        "id": "tC3auHhyJsxh"
      },
      "source": [
        "# let's check if there is any outliers \n",
        "\n",
        "plt.figure(figsize=(8,8))\n",
        "sns.distplot(data['Pregnancies'])\n",
        "plt.tight_layout()"
      ],
      "execution_count": null,
      "outputs": []
    },
    {
      "cell_type": "code",
      "metadata": {
        "id": "5Tsq0hfvJ6Pg"
      },
      "source": [
        "# let's remove outliers by quantile method\n",
        "q = data['Pregnancies'].quantile(0.99)\n",
        "data_1 = data[data['Pregnancies']<q]\n",
        "data_1.describe()"
      ],
      "execution_count": null,
      "outputs": []
    },
    {
      "cell_type": "code",
      "metadata": {
        "id": "CgeazeJGKShI"
      },
      "source": [
        "# let's check if there is any outliers \n",
        "\n",
        "plt.figure(figsize=(8,8))\n",
        "sns.distplot(data_1['Pregnancies'])\n",
        "plt.tight_layout()"
      ],
      "execution_count": null,
      "outputs": []
    },
    {
      "cell_type": "code",
      "metadata": {
        "id": "UAES9MzxKXO3"
      },
      "source": [
        "# let's check if there is any outliers \n",
        "\n",
        "plt.figure(figsize=(8,8))\n",
        "sns.distplot(data_1['Glucose'])\n",
        "plt.tight_layout()"
      ],
      "execution_count": null,
      "outputs": []
    },
    {
      "cell_type": "code",
      "metadata": {
        "id": "xPovpb-6KjmI"
      },
      "source": [
        "# let's check if there is any outliers \n",
        "\n",
        "plt.figure(figsize=(8,8))\n",
        "sns.distplot(data['BloodPressure'])\n",
        "plt.tight_layout()"
      ],
      "execution_count": null,
      "outputs": []
    },
    {
      "cell_type": "code",
      "metadata": {
        "id": "So92-MHSKq1V"
      },
      "source": [
        "# let's check if there is any outliers \n",
        "\n",
        "plt.figure(figsize=(8,8))\n",
        "sns.distplot(data['SkinThickness'])\n",
        "plt.tight_layout()"
      ],
      "execution_count": null,
      "outputs": []
    },
    {
      "cell_type": "code",
      "metadata": {
        "id": "2VdIaDOmK2gk"
      },
      "source": [
        "# let's remove some of the outliers in skinthickness\n",
        "q = data_1['SkinThickness'].quantile(0.99)\n",
        "data_2 = data_1[data_1['SkinThickness']<q]\n",
        "data_2.describe()"
      ],
      "execution_count": null,
      "outputs": []
    },
    {
      "cell_type": "code",
      "metadata": {
        "id": "DfaNBb4qLPlC"
      },
      "source": [
        "# let's check if there is any outliers \n",
        "\n",
        "plt.figure(figsize=(8,8))\n",
        "sns.distplot(data_2['SkinThickness'])\n",
        "plt.tight_layout()"
      ],
      "execution_count": null,
      "outputs": []
    },
    {
      "cell_type": "code",
      "metadata": {
        "id": "rSChOufqLWVZ"
      },
      "source": [
        "# let's check if there is any outliers \n",
        "\n",
        "plt.figure(figsize=(8,8))\n",
        "sns.distplot(data_2['Insulin'])\n",
        "plt.tight_layout()"
      ],
      "execution_count": null,
      "outputs": []
    },
    {
      "cell_type": "code",
      "metadata": {
        "id": "lPZCIEjSLfdD"
      },
      "source": [
        "# let's remove some of the outliers in insulin\n",
        "q = data_2['Insulin'].quantile(0.99)\n",
        "data_3 = data_2[data_2['Insulin']<q]\n",
        "data_3.describe()"
      ],
      "execution_count": null,
      "outputs": []
    },
    {
      "cell_type": "code",
      "metadata": {
        "id": "Bl0erAEILwsW"
      },
      "source": [
        "# let's check if there is any outliers \n",
        "\n",
        "plt.figure(figsize=(8,8))\n",
        "sns.distplot(data_3['Insulin'])\n",
        "plt.tight_layout()"
      ],
      "execution_count": null,
      "outputs": []
    },
    {
      "cell_type": "code",
      "metadata": {
        "id": "Y4Dy0EQiLz-B"
      },
      "source": [
        "# let's check if there is any outliers \n",
        "\n",
        "plt.figure(figsize=(8,8))\n",
        "sns.distplot(data_3['BMI'])\n",
        "plt.tight_layout()"
      ],
      "execution_count": null,
      "outputs": []
    },
    {
      "cell_type": "code",
      "metadata": {
        "id": "jv7-T7cTL-DX"
      },
      "source": [
        "# let's check if there is any outliers \n",
        "\n",
        "plt.figure(figsize=(8,8))\n",
        "sns.distplot(data_3['DiabetesPedigreeFunction'])\n",
        "plt.tight_layout()"
      ],
      "execution_count": null,
      "outputs": []
    },
    {
      "cell_type": "code",
      "metadata": {
        "id": "_vD9NJBfMFkA"
      },
      "source": [
        "# let's remove some outliers\n",
        "q = data_3['DiabetesPedigreeFunction'].quantile(0.99)\n",
        "data_4 = data_3[data_3['DiabetesPedigreeFunction']<q]\n",
        "data_4.describe()"
      ],
      "execution_count": null,
      "outputs": []
    },
    {
      "cell_type": "code",
      "metadata": {
        "id": "NGbU6aDsMa2w"
      },
      "source": [
        "# let's check if there is any outliers \n",
        "\n",
        "plt.figure(figsize=(8,8))\n",
        "sns.distplot(data_4['DiabetesPedigreeFunction'])\n",
        "plt.tight_layout()"
      ],
      "execution_count": null,
      "outputs": []
    },
    {
      "cell_type": "code",
      "metadata": {
        "id": "90qypHShMfB8"
      },
      "source": [
        "# let's check if there is any outliers \n",
        "\n",
        "plt.figure(figsize=(8,8))\n",
        "sns.distplot(data_4['Age'])\n",
        "plt.tight_layout()"
      ],
      "execution_count": null,
      "outputs": []
    },
    {
      "cell_type": "code",
      "metadata": {
        "id": "sWxS1AvsMmFG"
      },
      "source": [
        "# let's remove some outliers\n",
        "q = data_4['Age'].quantile(0.99)\n",
        "data_5 = data_4[data_4['Age']<q]\n",
        "data_5.describe()"
      ],
      "execution_count": null,
      "outputs": []
    },
    {
      "cell_type": "code",
      "metadata": {
        "id": "3BlHR4eaM1hG"
      },
      "source": [
        "# let's check if there is any outliers \n",
        "\n",
        "plt.figure(figsize=(8,8))\n",
        "sns.distplot(data_5['Age'])\n",
        "plt.tight_layout()"
      ],
      "execution_count": null,
      "outputs": []
    },
    {
      "cell_type": "code",
      "metadata": {
        "id": "COAAInunM5fM"
      },
      "source": [
        "data_preprocessed = data_5"
      ],
      "execution_count": null,
      "outputs": []
    },
    {
      "cell_type": "code",
      "metadata": {
        "id": "lAyam3XhM-uW"
      },
      "source": [
        "data_preprocessed.head()"
      ],
      "execution_count": null,
      "outputs": []
    },
    {
      "cell_type": "code",
      "metadata": {
        "id": "NqnDfrb8NAtW"
      },
      "source": [
        "data_preprocessed.describe()"
      ],
      "execution_count": null,
      "outputs": []
    },
    {
      "cell_type": "code",
      "metadata": {
        "id": "SAI16yCNNDXP"
      },
      "source": [
        "sns.set_theme(style='darkgrid')\n",
        "data_preprocessed.hist(bins=30, color='red', figsize=(10,10))\n",
        "plt.tight_layout()"
      ],
      "execution_count": null,
      "outputs": []
    },
    {
      "cell_type": "code",
      "metadata": {
        "id": "Po6rBuMtNM-X"
      },
      "source": [
        "# let's calculate the number of patients having diabetes \n",
        "no_diabetes = data[data['Outcome']==0]\n",
        "with_diabetes = data[data['Outcome']==1]\n",
        "\n",
        "print(f'The people having diabetes : {len(with_diabetes)}')\n",
        "print(f'The people who are safe from diabetes: {len(no_diabetes)}')\n",
        "\n",
        "# let's calculate in terms of percentage\n",
        "print(f'People with diabetes: {round(len(with_diabetes)/len(data)*100, 2)}%')\n",
        "print(f'People who are safe from diabetes: {round(len(no_diabetes)/len(data)*100, 2)}%')"
      ],
      "execution_count": null,
      "outputs": []
    },
    {
      "cell_type": "code",
      "metadata": {
        "id": "Nnma3BVDODNn"
      },
      "source": [
        "# let's check the vif \n",
        "data_preprocessed.columns"
      ],
      "execution_count": null,
      "outputs": []
    },
    {
      "cell_type": "code",
      "metadata": {
        "id": "hyRtoVJ1PAej"
      },
      "source": [
        "from statsmodels.stats.outliers_influence import variance_inflation_factor\n",
        "\n",
        "variable = data_preprocessed[['Pregnancies', 'Glucose', 'BloodPressure', 'SkinThickness', 'Insulin',\n",
        "       'BMI', 'DiabetesPedigreeFunction', 'Age']]\n",
        "\n",
        "vif = pd.DataFrame()\n",
        "vif['VIF'] = [variance_inflation_factor(variable.values, i) for i in range(variable.shape[1])]\n",
        "vif['features'] = variable.columns"
      ],
      "execution_count": null,
      "outputs": []
    },
    {
      "cell_type": "code",
      "metadata": {
        "id": "7FAdGWuzPq7P"
      },
      "source": [
        "vif"
      ],
      "execution_count": null,
      "outputs": []
    },
    {
      "cell_type": "code",
      "metadata": {
        "id": "yPoF9WOKPrvD"
      },
      "source": [
        "# Here 'glucose','bloodpressure','BMI','age' all these factors are having values greater than 7, so, let's remove all these factores\n",
        "\n",
        "data_preprocessed.drop(['Glucose','BloodPressure','BMI','Age'], axis=1, inplace=True)"
      ],
      "execution_count": null,
      "outputs": []
    },
    {
      "cell_type": "code",
      "metadata": {
        "id": "lbLYTKriQL9e"
      },
      "source": [
        "data_preprocessed.head(10)"
      ],
      "execution_count": null,
      "outputs": []
    },
    {
      "cell_type": "code",
      "metadata": {
        "id": "bltLF-SzQNq_"
      },
      "source": [
        "# let's split the data\n",
        "\n",
        "y = data_preprocessed['Outcome']\n",
        "X = data_preprocessed.drop('Outcome',axis=1)"
      ],
      "execution_count": null,
      "outputs": []
    },
    {
      "cell_type": "code",
      "metadata": {
        "id": "4CoKUtpXQffO"
      },
      "source": [
        "y"
      ],
      "execution_count": null,
      "outputs": []
    },
    {
      "cell_type": "code",
      "metadata": {
        "id": "yrtAoFAiQgPv"
      },
      "source": [
        "X"
      ],
      "execution_count": null,
      "outputs": []
    },
    {
      "cell_type": "code",
      "metadata": {
        "id": "ZrCcyTdlQhSA"
      },
      "source": [
        "# let's standardize the data\n",
        "\n",
        "scalar = StandardScaler()\n",
        "X_scaled = scalar.fit_transform(X)"
      ],
      "execution_count": null,
      "outputs": []
    },
    {
      "cell_type": "code",
      "metadata": {
        "id": "krvjjH6oQszL"
      },
      "source": [
        "X_scaled"
      ],
      "execution_count": null,
      "outputs": []
    },
    {
      "cell_type": "code",
      "metadata": {
        "id": "-t1c6hhFQuHE"
      },
      "source": [
        "# let's split the data into train_test_split\n",
        "\n",
        "X_train, X_test, y_train, y_test = train_test_split(X_scaled, y, test_size=0.2, random_state=365)"
      ],
      "execution_count": null,
      "outputs": []
    },
    {
      "cell_type": "code",
      "metadata": {
        "id": "VfVtTxv_Qxfn"
      },
      "source": [
        "X_train.shape, X_test.shape"
      ],
      "execution_count": null,
      "outputs": []
    },
    {
      "cell_type": "code",
      "metadata": {
        "id": "-oxgrIKiQ-rc"
      },
      "source": [
        "# let's instantiate logistic regression\n",
        "from sklearn.linear_model import LogisticRegression\n",
        "reg = LogisticRegression(random_state=365)\n",
        "reg.fit(X_train, y_train)"
      ],
      "execution_count": null,
      "outputs": []
    },
    {
      "cell_type": "code",
      "metadata": {
        "id": "mC_ObpdhRYJz"
      },
      "source": [
        "reg_out = reg.predict(X_test)"
      ],
      "execution_count": null,
      "outputs": []
    },
    {
      "cell_type": "code",
      "metadata": {
        "id": "GwIdMDhpRcsk"
      },
      "source": [
        "reg_out"
      ],
      "execution_count": null,
      "outputs": []
    },
    {
      "cell_type": "code",
      "metadata": {
        "id": "JxTvrRuuRdwj"
      },
      "source": [
        "cm = confusion_matrix(y_test, reg_out)\n",
        "acc = accuracy_score(y_test, reg_out)\n",
        "cl = classification_report(y_test, reg_out)\n",
        "\n",
        "print(f'''The confusion metrix is:\n",
        "{cm}''')\n",
        "print(f'The accuracy score is: {round(acc, 2)*100}%')\n",
        "print(f'''The classification report is:\n",
        "{cl}''')"
      ],
      "execution_count": null,
      "outputs": []
    },
    {
      "cell_type": "code",
      "metadata": {
        "id": "6pZi3zUGSApJ"
      },
      "source": [
        "# let's instantiate randomforest\n",
        "\n",
        "forest = RandomForestClassifier(n_estimators=100, criterion='entropy',random_state=365, min_samples_split=2)\n",
        "forest.fit(X_train, y_train)"
      ],
      "execution_count": null,
      "outputs": []
    },
    {
      "cell_type": "code",
      "metadata": {
        "id": "U6rVHvdvST0v"
      },
      "source": [
        "forest_out = forest.predict(X_test)"
      ],
      "execution_count": null,
      "outputs": []
    },
    {
      "cell_type": "code",
      "metadata": {
        "id": "IZqS8AnlSX_J"
      },
      "source": [
        "forest_out"
      ],
      "execution_count": null,
      "outputs": []
    },
    {
      "cell_type": "code",
      "metadata": {
        "id": "8D8cr7GrSZjt"
      },
      "source": [
        "cm = confusion_matrix(y_test, forest_out)\n",
        "acc = accuracy_score(y_test, forest_out)\n",
        "cl = classification_report(y_test, forest_out)\n",
        "\n",
        "print(f'''The confusion metrix is:\n",
        "{cm}''')\n",
        "print(f'The accuracy score is: {round(acc, 2)*100}%')\n",
        "print(f'''The classification report is:\n",
        "{cl}''')"
      ],
      "execution_count": null,
      "outputs": []
    },
    {
      "cell_type": "code",
      "metadata": {
        "id": "hmzX1iXyShtY"
      },
      "source": [
        "# let's instantiate decision tree\n",
        "\n",
        "tree = DecisionTreeClassifier(criterion='gini',splitter='best',max_depth=2,random_state=365)\n",
        "tree.fit(X_train, y_train)"
      ],
      "execution_count": null,
      "outputs": []
    },
    {
      "cell_type": "code",
      "metadata": {
        "id": "jPYA2ZK8S6sz"
      },
      "source": [
        "tree_out = tree.predict(X_test)"
      ],
      "execution_count": null,
      "outputs": []
    },
    {
      "cell_type": "code",
      "metadata": {
        "id": "Rg0ltZ16S9_R"
      },
      "source": [
        "tree_out"
      ],
      "execution_count": null,
      "outputs": []
    },
    {
      "cell_type": "code",
      "metadata": {
        "id": "yn1wv0igS_V0"
      },
      "source": [
        "cm = confusion_matrix(y_test, tree_out)\n",
        "acc = accuracy_score(y_test, tree_out)\n",
        "cl = classification_report(y_test, tree_out)\n",
        "\n",
        "print(f'''The confusion metrix is:\n",
        "{cm}''')\n",
        "print(f'The accuracy score is: {round(acc, 2)*100}%')\n",
        "print(f'''The classification report is:\n",
        "{cl}''')"
      ],
      "execution_count": null,
      "outputs": []
    },
    {
      "cell_type": "code",
      "metadata": {
        "id": "T6Ez7pIyTFLS"
      },
      "source": [
        "# let's instantiate naive bayes\n",
        "\n",
        "bayes = GaussianNB()\n",
        "bayes.fit(X_train, y_train)"
      ],
      "execution_count": null,
      "outputs": []
    },
    {
      "cell_type": "code",
      "metadata": {
        "id": "rHnxcJcuTiPX"
      },
      "source": [
        "bayes_out = bayes.predict(X_test)"
      ],
      "execution_count": null,
      "outputs": []
    },
    {
      "cell_type": "code",
      "metadata": {
        "id": "qO3CI6hSTnCW"
      },
      "source": [
        "bayes_out"
      ],
      "execution_count": null,
      "outputs": []
    },
    {
      "cell_type": "code",
      "metadata": {
        "id": "aYtTHk5eToBF"
      },
      "source": [
        "cm = confusion_matrix(y_test, bayes_out)\n",
        "acc = accuracy_score(y_test, bayes_out)\n",
        "cl = classification_report(y_test, bayes_out)\n",
        "\n",
        "print(f'''The confusion metrix is:\n",
        "{cm}''')\n",
        "print(f'The accuracy score is: {round(acc, 2)*100}%')\n",
        "print(f'''The classification report is:\n",
        "{cl}''')"
      ],
      "execution_count": null,
      "outputs": []
    },
    {
      "cell_type": "code",
      "metadata": {
        "id": "_Uua1ZM_TsJq"
      },
      "source": [
        "sv = SVC(kernel='rbf',random_state=365)\n",
        "sv.fit(X_train, y_train)"
      ],
      "execution_count": null,
      "outputs": []
    },
    {
      "cell_type": "code",
      "metadata": {
        "id": "9b3IqDqRUDba"
      },
      "source": [
        "sv_out = sv.predict(X_test)"
      ],
      "execution_count": null,
      "outputs": []
    },
    {
      "cell_type": "code",
      "metadata": {
        "id": "JdLRgGM8UGKB"
      },
      "source": [
        "sv_out"
      ],
      "execution_count": null,
      "outputs": []
    },
    {
      "cell_type": "code",
      "metadata": {
        "id": "dyOtj4sUUG77"
      },
      "source": [
        "cm = confusion_matrix(y_test, sv_out)\n",
        "acc = accuracy_score(y_test, sv_out)\n",
        "cl = classification_report(y_test, sv_out)\n",
        "\n",
        "print(f'''The confusion metrix is:\n",
        "{cm}''')\n",
        "print(f'The accuracy score is: {round(acc, 2)*100}%')\n",
        "print(f'''The classification report is:\n",
        "{cl}''')"
      ],
      "execution_count": null,
      "outputs": []
    },
    {
      "cell_type": "code",
      "metadata": {
        "id": "DAFWID2tUKo8"
      },
      "source": [
        "# let's instantiate kneighbour\n",
        "k = KNeighborsClassifier(n_neighbors=5, weights='uniform',algorithm='auto',metric='minkowski')\n",
        "k.fit(X_train, y_train)"
      ],
      "execution_count": null,
      "outputs": []
    },
    {
      "cell_type": "code",
      "metadata": {
        "id": "e1z0Tpm2UkM7"
      },
      "source": [
        "k_out = k.predict(X_test)"
      ],
      "execution_count": null,
      "outputs": []
    },
    {
      "cell_type": "code",
      "metadata": {
        "id": "K1Im9Y3nUnN8"
      },
      "source": [
        "k_out"
      ],
      "execution_count": null,
      "outputs": []
    },
    {
      "cell_type": "code",
      "metadata": {
        "id": "UcperTipUoo8"
      },
      "source": [
        "cm = confusion_matrix(y_test, k_out)\n",
        "acc = accuracy_score(y_test, k_out)\n",
        "cl = classification_report(y_test, k_out)\n",
        "\n",
        "print(f'''The confusion metrix is:\n",
        "{cm}''')\n",
        "print(f'The accuracy score is: {round(acc, 2)*100}%')\n",
        "print(f'''The classification report is:\n",
        "{cl}''')"
      ],
      "execution_count": null,
      "outputs": []
    },
    {
      "cell_type": "code",
      "metadata": {
        "id": "eNae_N0xUuLR"
      },
      "source": [
        "# with 69% being the highest accuracy, as there is not enough dataset to obtain it's highest accuracy"
      ],
      "execution_count": null,
      "outputs": []
    },
    {
      "cell_type": "code",
      "metadata": {
        "id": "YOGcj7DMVouq"
      },
      "source": [
        "# let's go with randomforest classifier\n",
        "\n",
        "import joblib\n",
        "joblib.dump(forest, 'diabetes_prediction_model.joblib')"
      ],
      "execution_count": null,
      "outputs": []
    },
    {
      "cell_type": "code",
      "metadata": {
        "id": "JKUBYRmwV5kK"
      },
      "source": [
        ""
      ],
      "execution_count": null,
      "outputs": []
    }
  ]
}